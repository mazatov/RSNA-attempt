{
 "cells": [
  {
   "cell_type": "code",
   "execution_count": 1,
   "metadata": {
    "_cell_guid": "b1076dfc-b9ad-4769-8c92-a6c4dae69d19",
    "_uuid": "8f2839f25d086af736a60e9eeb907d3b93b6e0e5"
   },
   "outputs": [
    {
     "ename": "ModuleNotFoundError",
     "evalue": "No module named 'seaborn'",
     "output_type": "error",
     "traceback": [
      "\u001b[1;31m---------------------------------------------------------------------------\u001b[0m",
      "\u001b[1;31mModuleNotFoundError\u001b[0m                       Traceback (most recent call last)",
      "\u001b[1;32m<ipython-input-1-d16fbf80453e>\u001b[0m in \u001b[0;36m<module>\u001b[1;34m()\u001b[0m\n\u001b[0;32m      9\u001b[0m \u001b[1;32mimport\u001b[0m \u001b[0mmatplotlib\u001b[0m\u001b[1;33m.\u001b[0m\u001b[0mpyplot\u001b[0m \u001b[1;32mas\u001b[0m \u001b[0mplt\u001b[0m\u001b[1;33m\u001b[0m\u001b[0m\n\u001b[0;32m     10\u001b[0m \u001b[0mplt\u001b[0m\u001b[1;33m.\u001b[0m\u001b[0mstyle\u001b[0m\u001b[1;33m.\u001b[0m\u001b[0muse\u001b[0m\u001b[1;33m(\u001b[0m\u001b[1;34m'seaborn-white'\u001b[0m\u001b[1;33m)\u001b[0m\u001b[1;33m\u001b[0m\u001b[0m\n\u001b[1;32m---> 11\u001b[1;33m \u001b[1;32mimport\u001b[0m \u001b[0mseaborn\u001b[0m \u001b[1;32mas\u001b[0m \u001b[0msns\u001b[0m\u001b[1;33m\u001b[0m\u001b[0m\n\u001b[0m\u001b[0;32m     12\u001b[0m \u001b[0msns\u001b[0m\u001b[1;33m.\u001b[0m\u001b[0mset_style\u001b[0m\u001b[1;33m(\u001b[0m\u001b[1;34m\"white\"\u001b[0m\u001b[1;33m)\u001b[0m\u001b[1;33m\u001b[0m\u001b[0m\n\u001b[0;32m     13\u001b[0m \u001b[1;33m\u001b[0m\u001b[0m\n",
      "\u001b[1;31mModuleNotFoundError\u001b[0m: No module named 'seaborn'"
     ]
    }
   ],
   "source": [
    "# This Python 3 environment comes with many helpful analytics libraries installed\n",
    "# It is defined by the kaggle/python docker image: https://github.com/kaggle/docker-python\n",
    "# For example, here's several helpful packages to load in \n",
    "import pydicom\n",
    "import glob, pylab\n",
    "import numpy as np # linear algebra\n",
    "import pandas as pd # data processing, CSV file I/O (e.g. pd.read_csv)\n",
    "\n",
    "import matplotlib.pyplot as plt\n",
    "plt.style.use('seaborn-white')\n",
    "import seaborn as sns\n",
    "sns.set_style(\"white\")\n",
    "\n",
    "\n",
    "import os\n",
    "print(os.listdir(\"../input\"))\n",
    "\n"
   ]
  },
  {
   "cell_type": "code",
   "execution_count": null,
   "metadata": {
    "_cell_guid": "79c7e3d0-c299-4dcb-8224-4455121ee9b0",
    "_uuid": "d629ff2d2480ee46fbb7e2d37f6b5fab8052498a"
   },
   "outputs": [],
   "source": [
    "# number of images in datasets\n",
    "print(len(os.listdir(\"../input/stage_1_test_images\")), 'imgs in a test set')\n",
    "print(len(os.listdir(\"../input/stage_1_train_images\")), 'imgs in a train set')"
   ]
  },
  {
   "cell_type": "code",
   "execution_count": null,
   "metadata": {
    "_uuid": "886f9e9116b7fe7f1b22d5bd3569857223a02b36"
   },
   "outputs": [],
   "source": [
    "class_info = pd.read_csv('../input/stage_1_detailed_class_info.csv', index_col='patientId')\n",
    "train_labeles = pd.read_csv('../input/stage_1_train_labels.csv', index_col='patientId')"
   ]
  },
  {
   "cell_type": "code",
   "execution_count": null,
   "metadata": {
    "_uuid": "1aec977c60f932cb22e701b0f960430eb2538e54"
   },
   "outputs": [],
   "source": [
    "#some patients have more than one bounding box\n",
    "train_labeles[train_labeles.index.values == '00436515-870c-4b36-a041-de91049b9ab4']"
   ]
  },
  {
   "cell_type": "code",
   "execution_count": null,
   "metadata": {
    "_uuid": "c5270ab8e3bcfdd81de603ff7638e1b8f0aef474"
   },
   "outputs": [],
   "source": [
    "#a vast majority of images though have 1 bounding box, rarely 2, and almost never 3 or 4\n",
    "num_of_boxes_per_patient = train_labeles.index.value_counts().values\n",
    "sns.distplot(num_of_boxes_per_patient, kde=False)"
   ]
  },
  {
   "cell_type": "markdown",
   "metadata": {
    "_uuid": "db48641a0340b710e7ae2a4863f6d4dd9ae3dddf"
   },
   "source": [
    "# Different types of classes"
   ]
  },
  {
   "cell_type": "code",
   "execution_count": null,
   "metadata": {
    "_uuid": "8acde128371464bf3e3828b4e75ec17d0a52c45a"
   },
   "outputs": [],
   "source": [
    "classes = class_info['class'].value_counts()\n",
    "sns.barplot(y=classes.index, x=classes.values, alpha=0.5)"
   ]
  },
  {
   "cell_type": "markdown",
   "metadata": {
    "_uuid": "5807e2ea8c3c0d62021e399d82d4680928eaf3dc"
   },
   "source": [
    "# Distribution of bounding boxes"
   ]
  },
  {
   "cell_type": "code",
   "execution_count": null,
   "metadata": {
    "_uuid": "122cf468c79566437eebe693b5e1c848b924c35d"
   },
   "outputs": [],
   "source": [
    "train_labeles['BoundBoxArea'] = train_labeles.width*train_labeles.height\n",
    "train_labeles.BoundBoxArea.fillna(0, inplace=True)\n",
    "boxes = train_labeles[train_labeles.BoundBoxArea > 0]\n",
    "\n",
    "fig, axs = plt.subplots(1, 2, figsize=(13, 7))\n",
    "sns.scatterplot(x='x', y='y', hue='BoundBoxArea', data=boxes, ax=axs[0])\n",
    "sns.distplot(boxes.BoundBoxArea.values, ax=axs[1], label='BoundBoxArea')\n",
    "plt.legend()\n",
    "plt.show()"
   ]
  },
  {
   "cell_type": "markdown",
   "metadata": {
    "_uuid": "5881624401127b626d86bd492f446d80a25fd62a"
   },
   "source": [
    "# Some images with and without bounding boxes"
   ]
  },
  {
   "cell_type": "code",
   "execution_count": null,
   "metadata": {
    "_uuid": "6ad3f008da163d46f5759674542db2f67a240488"
   },
   "outputs": [],
   "source": [
    "#https://www.kaggle.com/peterchang77/exploratory-data-analysis\n",
    "\n",
    "def parse_data(df):\n",
    "    \"\"\"\n",
    "    Method to read a CSV file (Pandas dataframe) and parse the \n",
    "    data into the following nested dictionary:\n",
    "\n",
    "      parsed = {\n",
    "        \n",
    "        'patientId-00': {\n",
    "            'dicom': path/to/dicom/file,\n",
    "            'label': either 0 or 1 for normal or pnuemonia, \n",
    "            'boxes': list of box(es)\n",
    "        },\n",
    "        'patientId-01': {\n",
    "            'dicom': path/to/dicom/file,\n",
    "            'label': either 0 or 1 for normal or pnuemonia, \n",
    "            'boxes': list of box(es)\n",
    "        }, ...\n",
    "\n",
    "      }\n",
    "\n",
    "    \"\"\"\n",
    "    # --- Define lambda to extract coords in list [y, x, height, width]\n",
    "    extract_box = lambda row: [row['y'], row['x'], row['height'], row['width']]\n",
    "\n",
    "    parsed = {}\n",
    "    for n, row in df.iterrows():\n",
    "        # --- Initialize patient entry into parsed \n",
    "        pid = row['patientId']\n",
    "        if pid not in parsed:\n",
    "            parsed[pid] = {\n",
    "                'dicom': '../input/stage_1_train_images/%s.dcm' % pid,\n",
    "                'label': row['Target'],\n",
    "                'boxes': []}\n",
    "\n",
    "        # --- Add box if opacity is present\n",
    "        if parsed[pid]['label'] == 1:\n",
    "            parsed[pid]['boxes'].append(extract_box(row))\n",
    "\n",
    "    return parsed\n",
    "\n",
    "def draw(data):\n",
    "    \"\"\"\n",
    "    Method to draw single patient with bounding box(es) if present \n",
    "\n",
    "    \"\"\"\n",
    "    # --- Open DICOM file\n",
    "    d = pydicom.read_file(data['dicom'])\n",
    "    im = d.pixel_array\n",
    "\n",
    "    # --- Convert from single-channel grayscale to 3-channel RGB\n",
    "    im = np.stack([im] * 3, axis=2)\n",
    "\n",
    "    # --- Add boxes with random color if present\n",
    "    for box in data['boxes']:\n",
    "        rgb = np.floor(np.random.rand(3) * 256).astype('int')\n",
    "        im = overlay_box(im=im, box=box, rgb=rgb, stroke=6)\n",
    "\n",
    "    pylab.imshow(im, cmap=pylab.cm.gist_gray)\n",
    "    pylab.axis('off')\n",
    "\n",
    "def overlay_box(im, box, rgb, stroke=1):\n",
    "    \"\"\"\n",
    "    Method to overlay single box on image\n",
    "\n",
    "    \"\"\"\n",
    "    # --- Convert coordinates to integers\n",
    "    box = [int(b) for b in box]\n",
    "    \n",
    "    # --- Extract coordinates\n",
    "    y1, x1, height, width = box\n",
    "    y2 = y1 + height\n",
    "    x2 = x1 + width\n",
    "\n",
    "    im[y1:y1 + stroke, x1:x2] = rgb\n",
    "    im[y2:y2 + stroke, x1:x2] = rgb\n",
    "    im[y1:y2, x1:x1 + stroke] = rgb\n",
    "    im[y1:y2, x2:x2 + stroke] = rgb\n",
    "\n",
    "    return im"
   ]
  },
  {
   "cell_type": "code",
   "execution_count": null,
   "metadata": {
    "_uuid": "c95e7f8531a25b8736232ab23adc8461c11a3981"
   },
   "outputs": [],
   "source": [
    "df = pd.read_csv('../input/stage_1_train_labels.csv')\n",
    "parsed = parse_data(df)"
   ]
  },
  {
   "cell_type": "code",
   "execution_count": null,
   "metadata": {
    "_uuid": "457a5f76cb69c6587fedbd3d8176b7b826a1df22"
   },
   "outputs": [],
   "source": [
    "for i in range(5,10):\n",
    "    fig, axes = plt.subplots(1, 2, figsize=(10,10))\n",
    "    patientId = train_labeles.index.unique()[i]\n",
    "    draw(parsed[patientId])\n",
    "    dcm_file = '../input/stage_1_train_images/%s.dcm' % patientId\n",
    "    dcm_data = pydicom.read_file(dcm_file)\n",
    "    im = dcm_data.pixel_array\n",
    "    axes[0].imshow(im, cmap=pylab.cm.gist_gray)\n",
    "    axes[0].set_yticklabels([])\n",
    "    axes[0].set_xticklabels([])\n"
   ]
  },
  {
   "cell_type": "code",
   "execution_count": null,
   "metadata": {
    "_uuid": "4703a63ed5c1a84e06427e0b7d5fcc2a207d700d"
   },
   "outputs": [],
   "source": []
  }
 ],
 "metadata": {
  "kernelspec": {
   "display_name": "Python 3",
   "language": "python",
   "name": "python3"
  },
  "language_info": {
   "codemirror_mode": {
    "name": "ipython",
    "version": 3
   },
   "file_extension": ".py",
   "mimetype": "text/x-python",
   "name": "python",
   "nbconvert_exporter": "python",
   "pygments_lexer": "ipython3",
   "version": "3.6.5"
  }
 },
 "nbformat": 4,
 "nbformat_minor": 1
}
